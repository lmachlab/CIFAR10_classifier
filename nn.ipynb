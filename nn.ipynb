{
  "cells": [
    {
      "cell_type": "markdown",
      "metadata": {
        "id": "view-in-github",
        "colab_type": "text"
      },
      "source": [
        "<a href=\"https://colab.research.google.com/github/lmachlab/CIFAR10_classifier/blob/master/nn.ipynb\" target=\"_parent\"><img src=\"https://colab.research.google.com/assets/colab-badge.svg\" alt=\"Open In Colab\"/></a>"
      ]
    },
    {
      "cell_type": "markdown",
      "metadata": {
        "id": "qg23YThjpfGY"
      },
      "source": [
        "# Load PyTorch"
      ]
    },
    {
      "cell_type": "code",
      "execution_count": null,
      "metadata": {
        "id": "JiNjAFBcpfGZ"
      },
      "outputs": [],
      "source": [
        "import torch\n",
        "import torch.nn as nn\n",
        "import torchvision\n",
        "import torchvision.transforms as transforms\n",
        "import torch.nn.functional as F \n",
        "import matplotlib.pyplot as plt"
      ]
    },
    {
      "cell_type": "markdown",
      "source": [
        "# Load CIFAR-10 dataset\n"
      ],
      "metadata": {
        "id": "-qFnsjoA-5sh"
      }
    },
    {
      "cell_type": "code",
      "source": [
        "\n",
        "\n",
        "valid_ratio = 0.10\n",
        "\n",
        "#load train data and create a train and valid dataset\n",
        "train_data = torchvision.datasets.CIFAR10(root=\"data\", train=True, download=True, transform=transforms.ToTensor())\n",
        "n_train_examples = int((1-valid_ratio) * len(train_data))\n",
        "n_valid_examples = int(valid_ratio * len(train_data))\n",
        "train_set, valid_set = torch.utils.data.random_split(train_data, [n_train_examples, n_valid_examples])\n",
        "\n",
        "\n",
        "#load test set\n",
        "test_set = torchvision.datasets.CIFAR10(root=\"data\", train=False, download=True, transform=transforms.ToTensor())\n",
        "\n",
        "\n",
        "classes = ('plane', 'car', 'bird', 'cat', 'deer', 'dog', 'frog', 'horse', 'ship', 'truck')\n",
        "\n",
        "\n"
      ],
      "metadata": {
        "colab": {
          "base_uri": "https://localhost:8080/",
          "height": 100,
          "referenced_widgets": [
            "4fe4e9d7bcd64aa692d3ee5c3a7932d4",
            "85f86219529d488bb9f792533d571f8a",
            "ecec4fddf04441d38f79d255bdd80396",
            "249bf163bf574dd6a5ac66022e06ba74",
            "35aa1f7be8ed494d8b253d76b28e0cb3",
            "c9658ded5b3e4a548108e187ec066b0d",
            "c662ed4caa5f43ff87176b1b189a68d7",
            "1066fcd0d059431e902993b1008f1726",
            "630d04322f334a82b4a1ff8980a62185",
            "f1f4e674d9be434cb5eb85300e90fff0",
            "3101242763ad4f0eb420361605a4ec57"
          ]
        },
        "id": "t10Eg_1j_C8a",
        "outputId": "63bdfc31-f110-42f8-f074-9dd7df45e89e"
      },
      "execution_count": null,
      "outputs": [
        {
          "output_type": "stream",
          "name": "stdout",
          "text": [
            "Downloading https://www.cs.toronto.edu/~kriz/cifar-10-python.tar.gz to data/cifar-10-python.tar.gz\n"
          ]
        },
        {
          "output_type": "display_data",
          "data": {
            "text/plain": [
              "  0%|          | 0/170498071 [00:00<?, ?it/s]"
            ],
            "application/vnd.jupyter.widget-view+json": {
              "version_major": 2,
              "version_minor": 0,
              "model_id": "4fe4e9d7bcd64aa692d3ee5c3a7932d4"
            }
          },
          "metadata": {}
        },
        {
          "output_type": "stream",
          "name": "stdout",
          "text": [
            "Extracting data/cifar-10-python.tar.gz to data\n",
            "Files already downloaded and verified\n"
          ]
        }
      ]
    },
    {
      "cell_type": "markdown",
      "source": [
        "# Model structure\n"
      ],
      "metadata": {
        "id": "Lrhh0y389e8e"
      }
    },
    {
      "cell_type": "code",
      "execution_count": null,
      "metadata": {
        "id": "63Ku2cfkpfGZ"
      },
      "outputs": [],
      "source": [
        "class NNetwork1(nn.Module):\n",
        "    def __init__(self):\n",
        "        super().__init__()\n",
        "        # 1 convolutional layer\n",
        "        self.conv1 = nn.Conv2d(3, 6, kernel_size=(3,3), stride=(1,1), padding=(1,1))\n",
        "        self.fc1 = nn.Linear(6*16*16, 10)\n",
        "        self.pool = nn.MaxPool2d(kernel_size=(2,2))\n",
        "       \n",
        "\n",
        "    def forward(self, x):\n",
        "        x = self.pool(F.relu(self.conv1(x)))\n",
        "        x = torch.flatten(x, 1) \n",
        "        x = self.fc1(x)\n",
        "        return x\n",
        "\n",
        "class NNetwork2(nn.Module):\n",
        "    def __init__(self):\n",
        "        super().__init__()\n",
        "        # 2 convolutional layers\n",
        "        self.conv1 = nn.Conv2d(3, 6, kernel_size=(3,3), stride=(1,1), padding=(1,1))\n",
        "        self.conv2 = nn.Conv2d(6, 12, kernel_size=(3,3), stride=(1,1), padding=(1,1))\n",
        "        self.fc1 = nn.Linear(12*8*8, 10)\n",
        "        self.pool = nn.MaxPool2d(kernel_size=(2,2))\n",
        "       \n",
        "\n",
        "    def forward(self, x):\n",
        "        x = self.pool(F.relu(self.conv1(x)))\n",
        "        x = self.pool(F.relu(self.conv2(x)))\n",
        "        x = torch.flatten(x, 1) \n",
        "        x = self.fc1(x)\n",
        "        return x\n",
        "\n",
        "class NNetwork3(nn.Module):\n",
        "    def __init__(self):\n",
        "        super().__init__()\n",
        "        # 3 convolutional layers\n",
        "        self.conv1 = nn.Conv2d(3, 6, kernel_size=(3,3), stride=(1,1), padding=(1,1))\n",
        "        self.conv2 = nn.Conv2d(6, 12, kernel_size=(3,3), stride=(1,1), padding=(1,1))\n",
        "        self.conv3 = nn.Conv2d(12, 24, kernel_size=(3,3), stride=(1,1), padding=(1,1))\n",
        "        self.fc1 = nn.Linear(24*4*4, 10)\n",
        "        self.pool = nn.MaxPool2d(kernel_size=(2,2))\n",
        "       \n",
        "\n",
        "    def forward(self, x):\n",
        "        x = self.pool(F.relu(self.conv1(x)))\n",
        "        x = self.pool(F.relu(self.conv2(x)))\n",
        "        x = self.pool(F.relu(self.conv3(x)))\n",
        "        x = torch.flatten(x, 1) \n",
        "        x = self.fc1(x)\n",
        "        return x\n",
        "\n",
        "class NNetwork4(nn.Module):\n",
        "    def __init__(self):\n",
        "        super().__init__()\n",
        "        # 4 convolutional layers\n",
        "        self.conv1 = nn.Conv2d(3, 6, kernel_size=(3,3), stride=(1,1), padding=(1,1))\n",
        "        self.conv2 = nn.Conv2d(6, 12, kernel_size=(3,3), stride=(1,1), padding=(1,1))\n",
        "        self.conv3 = nn.Conv2d(12, 24, kernel_size=(3,3), stride=(1,1), padding=(1,1))\n",
        "        self.conv4 = nn.Conv2d(24, 48, kernel_size=(3,3), stride=(1,1), padding=(1,1))\n",
        "        self.fc1 = nn.Linear(48*2*2, 10)\n",
        "        self.pool = nn.MaxPool2d(kernel_size=(2,2))\n",
        "       \n",
        "\n",
        "    def forward(self, x):\n",
        "        x = self.pool(F.relu(self.conv1(x)))\n",
        "        x = self.pool(F.relu(self.conv2(x)))\n",
        "        x = self.pool(F.relu(self.conv3(x)))\n",
        "        x = self.pool(F.relu(self.conv4(x)))\n",
        "        x = torch.flatten(x, 1) \n",
        "        x = self.fc1(x)\n",
        "        return x\n",
        "\n",
        "class NNetwork5(nn.Module):\n",
        "    def __init__(self):\n",
        "        super().__init__()\n",
        "        # 5 convolutional layers\n",
        "        self.conv1 = nn.Conv2d(3, 6, kernel_size=(3,3), stride=(1,1), padding=(1,1))\n",
        "        self.conv2 = nn.Conv2d(6, 12, kernel_size=(3,3), stride=(1,1), padding=(1,1))\n",
        "        self.conv3 = nn.Conv2d(12, 24, kernel_size=(3,3), stride=(1,1), padding=(1,1))\n",
        "        self.conv4 = nn.Conv2d(24, 48, kernel_size=(3,3), stride=(1,1), padding=(1,1))\n",
        "        self.conv5 = nn.Conv2d(48, 96, kernel_size=(3,3), stride=(1,1), padding=(1,1))\n",
        "        self.fc1 = nn.Linear(96*1*1, 10)\n",
        "        self.pool = nn.MaxPool2d(kernel_size=(2,2))\n",
        "       \n",
        "\n",
        "    def forward(self, x):\n",
        "        x = self.pool(F.relu(self.conv1(x)))\n",
        "        x = self.pool(F.relu(self.conv2(x)))\n",
        "        x = self.pool(F.relu(self.conv3(x)))\n",
        "        x = self.pool(F.relu(self.conv4(x)))\n",
        "        x = self.pool(F.relu(self.conv5(x)))\n",
        "        x = torch.flatten(x, 1) \n",
        "        x = self.fc1(x)\n",
        "        return x"
      ]
    },
    {
      "cell_type": "markdown",
      "source": [
        "# Run model"
      ],
      "metadata": {
        "id": "xoaZkCcLW7Hj"
      }
    },
    {
      "cell_type": "code",
      "source": [
        "import torch\n",
        "import torch.nn as nn\n",
        "import torch.nn.functional as F\n",
        "import torch.optim as optim\n",
        "from torchvision import datasets, transforms\n",
        "from torch.utils.data import DataLoader\n",
        "import numpy as np\n",
        "\n",
        "\n",
        "\n",
        "def run_model(model,running_mode='train', train_set=None, valid_set=None, test_set=None,\n",
        "    batch_size=1, learning_rate=0.01, n_epochs=1, stop_thr=1e-4, shuffle=True):\n",
        "   \n",
        "\n",
        "    if running_mode == 'train':\n",
        "      \n",
        "      trainsets = DataLoader(train_set, batch_size=batch_size, shuffle=shuffle)\n",
        "      if valid_set != None:\n",
        "        validsets = DataLoader(valid_set, batch_size=batch_size, shuffle=shuffle)\n",
        "      optimizer = torch.optim.SGD(model.parameters(), lr=learning_rate)\n",
        "\n",
        "      loss_dict = {'train':[], 'valid':[]}\n",
        "      acc_dict = {'train':[], 'valid':[]}\n",
        "      epoch_index = 0\n",
        "      for epoch in range(n_epochs):\n",
        "        model, train_loss, train_accuracy = _train(model=model, data_loader=trainsets, optimizer=optimizer)\n",
        "        loss_dict['train'].append(train_loss)\n",
        "        acc_dict['train'].append(train_accuracy)\n",
        "        if valid_set != None:\n",
        "          valid_loss, valid_accuracy = _test(model=model, data_loader=validsets)\n",
        "          loss_dict['valid'].append(valid_loss)\n",
        "          acc_dict['valid'].append(valid_accuracy)\n",
        "          if epoch_index > 1:\n",
        "            loss_diff = loss_dict['valid'][-1] - loss_dict['valid'][-2]\n",
        "            if abs(loss_diff) < stop_thr:\n",
        "              return model, loss_dict, acc_dict\n",
        "        epoch_index += 1\n",
        "      return model, loss_dict, acc_dict\n",
        "    else:\n",
        "      testsets = DataLoader(test_set, batch_size=batch_size, shuffle=shuffle)\n",
        "      test_loss, test_accuracy = _test(model=model, data_loader=testsets)\n",
        "      return test_loss, test_accuracy\n",
        "\n",
        "\n",
        "\n",
        "def _train(model,data_loader,optimizer,device=torch.device('cpu')):\n",
        "\n",
        "  \n",
        "    loss = nn.CrossEntropyLoss()\n",
        "    total_data = 0\n",
        "    total_loss = 0\n",
        "    total_examples = 0\n",
        "    correct_assign = 0\n",
        "    for data in data_loader:\n",
        "      X, y = data\n",
        "      optimizer.zero_grad()\n",
        "      output = model(X.float())\n",
        "      y = y.type(torch.LongTensor)\n",
        "      loss_value = loss(output, y)\n",
        "      loss_value.backward()\n",
        "      optimizer.step()\n",
        "      total_data += 1\n",
        "      total_loss += loss_value.item()\n",
        "      total_examples += len(y)\n",
        "      predictions = torch.argmax(output, dim=1)\n",
        "      correct_assign += torch.sum(predictions == y)\n",
        "\n",
        "    train_accuracy = correct_assign / total_examples\n",
        "    train_accuracy *= 100\n",
        "    train_loss = total_loss / total_data\n",
        "    return model, train_loss, train_accuracy\n",
        "\n",
        "\n",
        "def _test(model, data_loader, device=torch.device('cpu')):\n",
        "    \n",
        "    loss = nn.CrossEntropyLoss()\n",
        "    total_data = 0\n",
        "    total_loss = 0\n",
        "    total_examples = 0\n",
        "    correct_assign = 0\n",
        "\n",
        "    for data in data_loader:\n",
        "      X, y = data\n",
        "      output = model(X.float())\n",
        "      y = y.type(torch.LongTensor)\n",
        "      loss_value = loss(output, y)\n",
        "      total_data += 1\n",
        "      total_loss += loss_value.item()\n",
        "      total_examples += len(data[0])\n",
        "      predictions = torch.argmax(output, dim=1)\n",
        "      correct_assign += torch.sum(predictions == y)\n",
        "    \n",
        "    test_accuracy = correct_assign / total_examples\n",
        "    test_accuracy *= 100\n",
        "    test_loss = total_loss / total_data\n",
        "    return test_loss, test_accuracy\n",
        "\n"
      ],
      "metadata": {
        "id": "Iy3uoIIIUw-Z"
      },
      "execution_count": null,
      "outputs": []
    },
    {
      "cell_type": "markdown",
      "source": [
        "## Train"
      ],
      "metadata": {
        "id": "2dh90PdIYSkE"
      }
    },
    {
      "cell_type": "markdown",
      "source": [
        "#### Train the five neural networks with varying in number of convolutional layers (1, 2, 3, 4, 5) for 15 epochs each"
      ],
      "metadata": {
        "id": "TVIREKrKchad"
      }
    },
    {
      "cell_type": "code",
      "source": [
        "model1 = NNetwork1()\n",
        "model2 = NNetwork2()\n",
        "model3 = NNetwork3()\n",
        "model4 = NNetwork4()\n",
        "model5 = NNetwork5()\n",
        "\n",
        "trained_model_1, loss_dict_1, acc_dict_1 = run_model(model1, running_mode='train', train_set=train_set, valid_set=valid_set, batch_size=10, n_epochs=15, shuffle=True)\n",
        "trained_model_2, loss_dict_2, acc_dict_2 = run_model(model2, running_mode='train', train_set=train_set, valid_set=valid_set, batch_size=10, n_epochs=15, shuffle=True)\n",
        "trained_model_3, loss_dict_3, acc_dict_3 = run_model(model3, running_mode='train', train_set=train_set, valid_set=valid_set, batch_size=10, n_epochs=15, shuffle=True)\n",
        "trained_model_4, loss_dict_4, acc_dict_4 = run_model(model4, running_mode='train', train_set=train_set, valid_set=valid_set, batch_size=10, n_epochs=15, shuffle=True)\n",
        "trained_model_5, loss_dict_5, acc_dict_5 = run_model(model5, running_mode='train', train_set=train_set, valid_set=valid_set, batch_size=10, n_epochs=15, shuffle=True)\n",
        "\n",
        "\n",
        "\n"
      ],
      "metadata": {
        "id": "9RgcaXADYW33"
      },
      "execution_count": null,
      "outputs": []
    },
    {
      "cell_type": "markdown",
      "source": [
        "#### Plot validation loss, testing loss, validation accuracy, and testing accuracy"
      ],
      "metadata": {
        "id": "pgknrrjeoTK_"
      }
    },
    {
      "cell_type": "code",
      "source": [
        "epoch_list = list(range(0, 15))\n",
        "\n",
        "\n",
        "\n",
        "valid_loss1 = loss_dict_1['valid']\n",
        "train_loss1 = loss_dict_1['train']\n",
        "valid_acc1 = acc_dict_1['valid']\n",
        "train_acc1 = acc_dict_1['train']\n",
        "epoch_list1 = list(range(0, len(valid_loss1)))\n",
        "\n",
        "\n",
        "valid_loss2 = loss_dict_2['valid']\n",
        "train_loss2 = loss_dict_2['train']\n",
        "valid_acc2 = acc_dict_2['valid']\n",
        "train_acc2 = acc_dict_2['train']\n",
        "epoch_list2 = list(range(0, len(valid_loss2)))\n",
        "\n",
        "\n",
        "valid_loss3 = loss_dict_3['valid']\n",
        "train_loss3 = loss_dict_3['train']\n",
        "valid_acc3 = acc_dict_3['valid']\n",
        "train_acc3 = acc_dict_3['train']\n",
        "epoch_list3 = list(range(0, len(valid_loss3)))\n",
        "\n",
        "valid_loss4 = loss_dict_4['valid']\n",
        "train_loss4 = loss_dict_4['train']\n",
        "valid_acc4 = acc_dict_4['valid']\n",
        "train_acc4 = acc_dict_4['train']\n",
        "epoch_list4 = list(range(0, len(valid_loss4)))\n",
        "\n",
        "valid_loss5 = loss_dict_5['valid']\n",
        "train_loss5 = loss_dict_5['train']\n",
        "valid_acc5 = acc_dict_5['valid']\n",
        "train_acc5 = acc_dict_5['train']\n",
        "epoch_list5 = list(range(0, len(valid_loss5)))\n",
        "\n",
        "\n",
        "plt.plot(epoch_list1,valid_loss1, label = '1 conv')\n",
        "plt.plot(epoch_list2,valid_loss2, label = '2 conv')\n",
        "plt.plot(epoch_list3,valid_loss3, label = '3 conv')\n",
        "plt.plot(epoch_list4,valid_loss4, label = '4 conv')\n",
        "plt.plot(epoch_list5,valid_loss5, label = '5 conv')\n",
        "plt.title(\"Validation Loss\")\n",
        "plt.xlabel('Epoch')\n",
        "plt.ylabel('Loss')\n",
        "plt.legend()\n",
        "plt.show()\n",
        "\n",
        "plt.plot(epoch_list1,train_loss1, label = '1 conv')\n",
        "plt.plot(epoch_list2,train_loss2, label = '2 conv')\n",
        "plt.plot(epoch_list3,train_loss3, label = '3 conv')\n",
        "plt.plot(epoch_list4,train_loss4, label = '4 conv')\n",
        "plt.plot(epoch_list5,train_loss5, label = '5 conv')\n",
        "plt.title(\"Training Loss\")\n",
        "plt.xlabel('Epoch')\n",
        "plt.ylabel('Loss')\n",
        "plt.legend()\n",
        "plt.show()\n",
        "\n",
        "plt.plot(epoch_list1,valid_acc1, label = '1 conv')\n",
        "plt.plot(epoch_list2,valid_acc2, label = '2 conv')\n",
        "plt.plot(epoch_list3,valid_acc3, label = '3 conv')\n",
        "plt.plot(epoch_list4,valid_acc4, label = '4 conv')\n",
        "plt.plot(epoch_list5,valid_acc5, label = '5 conv')\n",
        "plt.title(\"Validation Accuracy\")\n",
        "plt.xlabel('Epoch')\n",
        "plt.ylabel('Accuracy')\n",
        "plt.legend()\n",
        "plt.show()\n",
        "\n",
        "plt.plot(epoch_list1,train_acc1, label = '1 conv')\n",
        "plt.plot(epoch_list2,train_acc2, label = '2 conv')\n",
        "plt.plot(epoch_list3,train_acc3, label = '3 conv')\n",
        "plt.plot(epoch_list4,train_acc4, label = '4 conv')\n",
        "plt.plot(epoch_list5,train_acc5, label = '5 conv')\n",
        "plt.title(\"Training Accuracy\")\n",
        "plt.xlabel('Epoch')\n",
        "plt.ylabel('Accuracy')\n",
        "plt.legend()\n",
        "plt.show()"
      ],
      "metadata": {
        "colab": {
          "base_uri": "https://localhost:8080/",
          "height": 1000
        },
        "id": "S9JggsVHljVa",
        "outputId": "080b59f3-b9a2-4cf6-fa8a-9d1e4129af5c"
      },
      "execution_count": null,
      "outputs": [
        {
          "output_type": "display_data",
          "data": {
            "text/plain": [
              "<Figure size 432x288 with 1 Axes>"
            ],
            "image/png": "[encoded data removed]"
          },
          "metadata": {
            "needs_background": "light"
          }
        },
        {
          "output_type": "display_data",
          "data": {
            "text/plain": [
              "<Figure size 432x288 with 1 Axes>"
            ],
            "image/png": "[encoded data removed]"
          },
          "metadata": {
            "needs_background": "light"
          }
        },
        {
          "output_type": "display_data",
          "data": {
            "text/plain": [
              "<Figure size 432x288 with 1 Axes>"
            ],
            "image/png": "[encoded data removed]"
          },
          "metadata": {
            "needs_background": "light"
          }
        },
        {
          "output_type": "display_data",
          "data": {
            "text/plain": [
              "<Figure size 432x288 with 1 Axes>"
            ],
            "image/png": "[encoded data removed]"
          },
          "metadata": {
            "needs_background": "light"
          }
        }
      ]
    },
    {
      "cell_type": "markdown",
      "source": [
        "##### The network with three convolutional layers has the highest validation accuracy and the lowest validation loss. Though I had expected the network with five convolutional layers to perform the best (because of greater complexity), this was not the case. It is possible this is because the way I structured the CNNs, a greater number of convolutional layers at a certain point leads to too small of a convolved feature map."
      ],
      "metadata": {
        "id": "fayLBOXczNNe"
      }
    },
    {
      "cell_type": "markdown",
      "source": [
        "## Test"
      ],
      "metadata": {
        "id": "Bw3J8k_pbsoB"
      }
    },
    {
      "cell_type": "markdown",
      "source": [
        "#### Test each model trained, and record the accuracy of each"
      ],
      "metadata": {
        "id": "ewc8nYP7dDC-"
      }
    },
    {
      "cell_type": "code",
      "source": [
        "test_loss_1, test_accuracy_1 = run_model(trained_model_1, running_mode='test', test_set=test_set, batch_size=10, shuffle=False)\n",
        "print(\"percentage of accurately labeled images with one convolutional layer: \", float(test_accuracy_1))\n",
        "\n",
        "test_loss_2, test_accuracy_2 = run_model(trained_model_2, running_mode='test', test_set=test_set, batch_size=10, shuffle=False)\n",
        "print(\"percentage of accurately labeled images with two convolutional layers: \", float(test_accuracy_2))\n",
        "\n",
        "test_loss_3, test_accuracy_3 = run_model(trained_model_3, running_mode='test', test_set=test_set, batch_size=10, shuffle=False)\n",
        "print(\"percentage of accurately labeled images with three convolutional layers: \", float(test_accuracy_3))\n",
        "\n",
        "test_loss_4, test_accuracy_4 = run_model(trained_model_4, running_mode='test', test_set=test_set, batch_size=10, shuffle=False)\n",
        "print(\"percentage of accurately labeled images with four convolutional layers: \", float(test_accuracy_4))\n",
        "\n",
        "test_loss_5, test_accuracy_5 = run_model(trained_model_5, running_mode='test', test_set=test_set, batch_size=10, shuffle=False)\n",
        "print(\"percentage of accurately labeled images with five convolutional layers: \", float(test_accuracy_5))"
      ],
      "metadata": {
        "colab": {
          "base_uri": "https://localhost:8080/"
        },
        "id": "nFFhzJKmbuNb",
        "outputId": "387cee8f-d16c-493c-e42a-42a38d993770"
      },
      "execution_count": null,
      "outputs": [
        {
          "output_type": "stream",
          "name": "stdout",
          "text": [
            "percentage of accurately labeled images with one convolutional layer:  53.90999984741211\n",
            "percentage of accurately labeled images with two convolutional layers:  60.57999801635742\n",
            "percentage of accurately labeled images with three convolutional layers:  64.69000244140625\n",
            "percentage of accurately labeled images with four convolutional layers:  62.290000915527344\n",
            "percentage of accurately labeled images with five convolutional layers:  63.06999969482422\n"
          ]
        }
      ]
    },
    {
      "cell_type": "code",
      "source": [
        "x_axis = [1, 2, 3, 4, 5]\n",
        "y_axis = [float(test_accuracy_1), float(test_accuracy_2), float(test_accuracy_3), float(test_accuracy_4), float(test_accuracy_5)]\n",
        "plt.plot(x_axis,y_axis)\n",
        "plt.title(\"Network Accuracy vs. Number of Convolutional Layers \")\n",
        "plt.xlabel('Number of Convolutional Layers')\n",
        "plt.ylabel('% of Correct Classifications')\n",
        "plt.show()"
      ],
      "metadata": {
        "colab": {
          "base_uri": "https://localhost:8080/",
          "height": 295
        },
        "id": "3PkuUMbEcKGY",
        "outputId": "5d6907ec-6c27-469a-928c-fe7fa2976be0"
      },
      "execution_count": null,
      "outputs": [
        {
          "output_type": "display_data",
          "data": {
            "text/plain": [
              "<Figure size 432x288 with 1 Axes>"
            ],
            "image/png": "[encoded data removed]"
          },
          "metadata": {
            "needs_background": "light"
          }
        }
      ]
    },
    {
      "cell_type": "markdown",
      "source": [
        ""
      ],
      "metadata": {
        "id": "Nasrdx-pdT4w"
      }
    },
    {
      "cell_type": "markdown",
      "source": [
        "## Train"
      ],
      "metadata": {
        "id": "4BtmoKMDdXbd"
      }
    },
    {
      "cell_type": "markdown",
      "source": [
        "#### train the neural network that has 3 hidden layers on 100 epochs"
      ],
      "metadata": {
        "id": "QWS2dJw_gT0W"
      }
    },
    {
      "cell_type": "code",
      "source": [
        "model_3 = NNetwork3()\n",
        "\n",
        "trained_model_100, loss_dict_100, acc_dict_100 = run_model(model_3, running_mode='train', train_set=train_set, valid_set=valid_set, batch_size=10, n_epochs=100, shuffle=True)\n",
        "\n"
      ],
      "metadata": {
        "colab": {
          "base_uri": "https://localhost:8080/",
          "height": 232
        },
        "id": "6FRGPxNfyd8x",
        "outputId": "252db915-6917-4f48-9013-76d0d67bb303"
      },
      "execution_count": null,
      "outputs": [
        {
          "output_type": "error",
          "ename": "ValueError",
          "evalue": "ignored",
          "traceback": [
            "\u001b[0;31m---------------------------------------------------------------------------\u001b[0m",
            "\u001b[0;31mValueError\u001b[0m                                Traceback (most recent call last)",
            "\u001b[0;32m<ipython-input-20-da6cb6b2c6ae>\u001b[0m in \u001b[0;36m<module>\u001b[0;34m()\u001b[0m\n\u001b[1;32m      1\u001b[0m \u001b[0mmodel_3\u001b[0m \u001b[0;34m=\u001b[0m \u001b[0mNNetwork3\u001b[0m\u001b[0;34m(\u001b[0m\u001b[0;34m)\u001b[0m\u001b[0;34m\u001b[0m\u001b[0;34m\u001b[0m\u001b[0m\n\u001b[1;32m      2\u001b[0m \u001b[0;34m\u001b[0m\u001b[0m\n\u001b[0;32m----> 3\u001b[0;31m \u001b[0mtrained_model_100\u001b[0m\u001b[0;34m,\u001b[0m \u001b[0mloss_dict_100\u001b[0m\u001b[0;34m,\u001b[0m \u001b[0macc_dict_100\u001b[0m \u001b[0;34m=\u001b[0m \u001b[0mrun_model\u001b[0m\u001b[0;34m(\u001b[0m\u001b[0mmodel_3\u001b[0m\u001b[0;34m,\u001b[0m \u001b[0mrunning_mode\u001b[0m\u001b[0;34m=\u001b[0m\u001b[0;34m'train'\u001b[0m\u001b[0;34m,\u001b[0m \u001b[0mtrain_set\u001b[0m\u001b[0;34m=\u001b[0m\u001b[0mtrain_set\u001b[0m\u001b[0;34m,\u001b[0m \u001b[0mvalid_set\u001b[0m\u001b[0;34m=\u001b[0m\u001b[0mvalid_set\u001b[0m\u001b[0;34m,\u001b[0m \u001b[0mbatch_size\u001b[0m\u001b[0;34m=\u001b[0m\u001b[0;36m10\u001b[0m\u001b[0;34m,\u001b[0m \u001b[0mn_epochs\u001b[0m\u001b[0;34m=\u001b[0m\u001b[0;36m100\u001b[0m\u001b[0;34m,\u001b[0m \u001b[0mshuffle\u001b[0m\u001b[0;34m=\u001b[0m\u001b[0;32mTrue\u001b[0m\u001b[0;34m)\u001b[0m\u001b[0;34m\u001b[0m\u001b[0;34m\u001b[0m\u001b[0m\n\u001b[0m\u001b[1;32m      4\u001b[0m \u001b[0;34m\u001b[0m\u001b[0m\n",
            "\u001b[0;31mValueError\u001b[0m: too many values to unpack (expected 3)"
          ]
        }
      ]
    },
    {
      "cell_type": "markdown",
      "source": [
        "#### plot validation loss, training loss, validation accuracy, and test accuracy across each epoch"
      ],
      "metadata": {
        "id": "A0XqjMCropt9"
      }
    },
    {
      "cell_type": "code",
      "source": [
        "\n",
        "valid_acc100 = acc_dict_100['valid']\n",
        "train_acc100 = acc_dict_100['train']\n",
        "valid_loss100 = loss_dict_100['valid']\n",
        "train_loss100 = loss_dict_100['train']\n",
        "epoch_list = list(range(0, len(valid_acc100)))\n",
        "\n",
        "plt.plot(epoch_list,valid_loss100, label = 'validation loss')\n",
        "plt.plot(epoch_list,train_loss100, label = 'training loss')\n",
        "plt.title(\"Testing and Validation Loss\")\n",
        "plt.xlabel('Epoch')\n",
        "plt.ylabel('Loss')\n",
        "plt.legend()\n",
        "plt.show()\n",
        "\n",
        "plt.plot(epoch_list,valid_acc100, label = 'validation accuracy')\n",
        "plt.plot(epoch_list,train_acc100, label = 'training accuracy')\n",
        "plt.title(\"Testing and Validation Accuracy\")\n",
        "plt.xlabel('Epoch')\n",
        "plt.ylabel('Accuracy')\n",
        "plt.legend()\n",
        "plt.show()"
      ],
      "metadata": {
        "colab": {
          "base_uri": "https://localhost:8080/",
          "height": 573
        },
        "id": "vUhBMh8npDtk",
        "outputId": "20b070c5-c393-4371-9924-692566c74ca8"
      },
      "execution_count": null,
      "outputs": [
        {
          "output_type": "display_data",
          "data": {
            "text/plain": [
              "<Figure size 432x288 with 1 Axes>"
            ],
            "image/png": "[encoded data removed]"
          },
          "metadata": {
            "needs_background": "light"
          }
        },
        {
          "output_type": "display_data",
          "data": {
            "text/plain": [
              "<Figure size 432x288 with 1 Axes>"
            ],
            "image/png": "[encoded data removed]"
          },
          "metadata": {
            "needs_background": "light"
          }
        }
      ]
    },
    {
      "cell_type": "markdown",
      "source": [
        "## Test"
      ],
      "metadata": {
        "id": "Zd5d17r_h8ZV"
      }
    },
    {
      "cell_type": "code",
      "source": [
        "\n",
        "\n",
        "test_loss, test_accuracy = run_model(trained_model_100, running_mode='test', test_set=test_set, batch_size=10, shuffle=False)\n",
        "  \n",
        "\n",
        "\n",
        "print('test accuracy: ', test_accuracy)\n"
      ],
      "metadata": {
        "colab": {
          "base_uri": "https://localhost:8080/",
          "height": 1000
        },
        "id": "rr3AtOaAh-C8",
        "outputId": "3bae01ca-b01c-4a37-c851-e89701e7633b"
      },
      "execution_count": null,
      "outputs": [
        {
          "output_type": "stream",
          "name": "stdout",
          "text": [
            "model:  NNetwork5(\n",
            "  (conv1): Conv2d(3, 6, kernel_size=(3, 3), stride=(1, 1), padding=(1, 1))\n",
            "  (conv2): Conv2d(6, 12, kernel_size=(3, 3), stride=(1, 1), padding=(1, 1))\n",
            "  (conv3): Conv2d(12, 24, kernel_size=(3, 3), stride=(1, 1), padding=(1, 1))\n",
            "  (conv4): Conv2d(24, 48, kernel_size=(3, 3), stride=(1, 1), padding=(1, 1))\n",
            "  (conv5): Conv2d(48, 96, kernel_size=(3, 3), stride=(1, 1), padding=(1, 1))\n",
            "  (fc1): Linear(in_features=96, out_features=10, bias=True)\n",
            "  (pool): MaxPool2d(kernel_size=(2, 2), stride=(2, 2), padding=0, dilation=1, ceil_mode=False)\n",
            ")\n",
            "model:  NNetwork5(\n",
            "  (conv1): Conv2d(3, 6, kernel_size=(3, 3), stride=(1, 1), padding=(1, 1))\n",
            "  (conv2): Conv2d(6, 12, kernel_size=(3, 3), stride=(1, 1), padding=(1, 1))\n",
            "  (conv3): Conv2d(12, 24, kernel_size=(3, 3), stride=(1, 1), padding=(1, 1))\n",
            "  (conv4): Conv2d(24, 48, kernel_size=(3, 3), stride=(1, 1), padding=(1, 1))\n",
            "  (conv5): Conv2d(48, 96, kernel_size=(3, 3), stride=(1, 1), padding=(1, 1))\n",
            "  (fc1): Linear(in_features=96, out_features=10, bias=True)\n",
            "  (pool): MaxPool2d(kernel_size=(2, 2), stride=(2, 2), padding=0, dilation=1, ceil_mode=False)\n",
            ")\n",
            "model:  NNetwork5(\n",
            "  (conv1): Conv2d(3, 6, kernel_size=(3, 3), stride=(1, 1), padding=(1, 1))\n",
            "  (conv2): Conv2d(6, 12, kernel_size=(3, 3), stride=(1, 1), padding=(1, 1))\n",
            "  (conv3): Conv2d(12, 24, kernel_size=(3, 3), stride=(1, 1), padding=(1, 1))\n",
            "  (conv4): Conv2d(24, 48, kernel_size=(3, 3), stride=(1, 1), padding=(1, 1))\n",
            "  (conv5): Conv2d(48, 96, kernel_size=(3, 3), stride=(1, 1), padding=(1, 1))\n",
            "  (fc1): Linear(in_features=96, out_features=10, bias=True)\n",
            "  (pool): MaxPool2d(kernel_size=(2, 2), stride=(2, 2), padding=0, dilation=1, ceil_mode=False)\n",
            ")\n",
            "model:  NNetwork5(\n",
            "  (conv1): Conv2d(3, 6, kernel_size=(3, 3), stride=(1, 1), padding=(1, 1))\n",
            "  (conv2): Conv2d(6, 12, kernel_size=(3, 3), stride=(1, 1), padding=(1, 1))\n",
            "  (conv3): Conv2d(12, 24, kernel_size=(3, 3), stride=(1, 1), padding=(1, 1))\n",
            "  (conv4): Conv2d(24, 48, kernel_size=(3, 3), stride=(1, 1), padding=(1, 1))\n",
            "  (conv5): Conv2d(48, 96, kernel_size=(3, 3), stride=(1, 1), padding=(1, 1))\n",
            "  (fc1): Linear(in_features=96, out_features=10, bias=True)\n",
            "  (pool): MaxPool2d(kernel_size=(2, 2), stride=(2, 2), padding=0, dilation=1, ceil_mode=False)\n",
            ")\n",
            "model:  NNetwork5(\n",
            "  (conv1): Conv2d(3, 6, kernel_size=(3, 3), stride=(1, 1), padding=(1, 1))\n",
            "  (conv2): Conv2d(6, 12, kernel_size=(3, 3), stride=(1, 1), padding=(1, 1))\n",
            "  (conv3): Conv2d(12, 24, kernel_size=(3, 3), stride=(1, 1), padding=(1, 1))\n",
            "  (conv4): Conv2d(24, 48, kernel_size=(3, 3), stride=(1, 1), padding=(1, 1))\n",
            "  (conv5): Conv2d(48, 96, kernel_size=(3, 3), stride=(1, 1), padding=(1, 1))\n",
            "  (fc1): Linear(in_features=96, out_features=10, bias=True)\n",
            "  (pool): MaxPool2d(kernel_size=(2, 2), stride=(2, 2), padding=0, dilation=1, ceil_mode=False)\n",
            ")\n",
            "model:  NNetwork5(\n",
            "  (conv1): Conv2d(3, 6, kernel_size=(3, 3), stride=(1, 1), padding=(1, 1))\n",
            "  (conv2): Conv2d(6, 12, kernel_size=(3, 3), stride=(1, 1), padding=(1, 1))\n",
            "  (conv3): Conv2d(12, 24, kernel_size=(3, 3), stride=(1, 1), padding=(1, 1))\n",
            "  (conv4): Conv2d(24, 48, kernel_size=(3, 3), stride=(1, 1), padding=(1, 1))\n",
            "  (conv5): Conv2d(48, 96, kernel_size=(3, 3), stride=(1, 1), padding=(1, 1))\n",
            "  (fc1): Linear(in_features=96, out_features=10, bias=True)\n",
            "  (pool): MaxPool2d(kernel_size=(2, 2), stride=(2, 2), padding=0, dilation=1, ceil_mode=False)\n",
            ")\n",
            "model:  NNetwork5(\n",
            "  (conv1): Conv2d(3, 6, kernel_size=(3, 3), stride=(1, 1), padding=(1, 1))\n",
            "  (conv2): Conv2d(6, 12, kernel_size=(3, 3), stride=(1, 1), padding=(1, 1))\n",
            "  (conv3): Conv2d(12, 24, kernel_size=(3, 3), stride=(1, 1), padding=(1, 1))\n",
            "  (conv4): Conv2d(24, 48, kernel_size=(3, 3), stride=(1, 1), padding=(1, 1))\n",
            "  (conv5): Conv2d(48, 96, kernel_size=(3, 3), stride=(1, 1), padding=(1, 1))\n",
            "  (fc1): Linear(in_features=96, out_features=10, bias=True)\n",
            "  (pool): MaxPool2d(kernel_size=(2, 2), stride=(2, 2), padding=0, dilation=1, ceil_mode=False)\n",
            ")\n",
            "model:  NNetwork5(\n",
            "  (conv1): Conv2d(3, 6, kernel_size=(3, 3), stride=(1, 1), padding=(1, 1))\n",
            "  (conv2): Conv2d(6, 12, kernel_size=(3, 3), stride=(1, 1), padding=(1, 1))\n",
            "  (conv3): Conv2d(12, 24, kernel_size=(3, 3), stride=(1, 1), padding=(1, 1))\n",
            "  (conv4): Conv2d(24, 48, kernel_size=(3, 3), stride=(1, 1), padding=(1, 1))\n",
            "  (conv5): Conv2d(48, 96, kernel_size=(3, 3), stride=(1, 1), padding=(1, 1))\n",
            "  (fc1): Linear(in_features=96, out_features=10, bias=True)\n",
            "  (pool): MaxPool2d(kernel_size=(2, 2), stride=(2, 2), padding=0, dilation=1, ceil_mode=False)\n",
            ")\n",
            "model:  NNetwork5(\n",
            "  (conv1): Conv2d(3, 6, kernel_size=(3, 3), stride=(1, 1), padding=(1, 1))\n",
            "  (conv2): Conv2d(6, 12, kernel_size=(3, 3), stride=(1, 1), padding=(1, 1))\n",
            "  (conv3): Conv2d(12, 24, kernel_size=(3, 3), stride=(1, 1), padding=(1, 1))\n",
            "  (conv4): Conv2d(24, 48, kernel_size=(3, 3), stride=(1, 1), padding=(1, 1))\n",
            "  (conv5): Conv2d(48, 96, kernel_size=(3, 3), stride=(1, 1), padding=(1, 1))\n",
            "  (fc1): Linear(in_features=96, out_features=10, bias=True)\n",
            "  (pool): MaxPool2d(kernel_size=(2, 2), stride=(2, 2), padding=0, dilation=1, ceil_mode=False)\n",
            ")\n",
            "model:  NNetwork5(\n",
            "  (conv1): Conv2d(3, 6, kernel_size=(3, 3), stride=(1, 1), padding=(1, 1))\n",
            "  (conv2): Conv2d(6, 12, kernel_size=(3, 3), stride=(1, 1), padding=(1, 1))\n",
            "  (conv3): Conv2d(12, 24, kernel_size=(3, 3), stride=(1, 1), padding=(1, 1))\n",
            "  (conv4): Conv2d(24, 48, kernel_size=(3, 3), stride=(1, 1), padding=(1, 1))\n",
            "  (conv5): Conv2d(48, 96, kernel_size=(3, 3), stride=(1, 1), padding=(1, 1))\n",
            "  (fc1): Linear(in_features=96, out_features=10, bias=True)\n",
            "  (pool): MaxPool2d(kernel_size=(2, 2), stride=(2, 2), padding=0, dilation=1, ceil_mode=False)\n",
            ")\n",
            "model:  NNetwork5(\n",
            "  (conv1): Conv2d(3, 6, kernel_size=(3, 3), stride=(1, 1), padding=(1, 1))\n",
            "  (conv2): Conv2d(6, 12, kernel_size=(3, 3), stride=(1, 1), padding=(1, 1))\n",
            "  (conv3): Conv2d(12, 24, kernel_size=(3, 3), stride=(1, 1), padding=(1, 1))\n",
            "  (conv4): Conv2d(24, 48, kernel_size=(3, 3), stride=(1, 1), padding=(1, 1))\n",
            "  (conv5): Conv2d(48, 96, kernel_size=(3, 3), stride=(1, 1), padding=(1, 1))\n",
            "  (fc1): Linear(in_features=96, out_features=10, bias=True)\n",
            "  (pool): MaxPool2d(kernel_size=(2, 2), stride=(2, 2), padding=0, dilation=1, ceil_mode=False)\n",
            ")\n",
            "model:  NNetwork5(\n",
            "  (conv1): Conv2d(3, 6, kernel_size=(3, 3), stride=(1, 1), padding=(1, 1))\n",
            "  (conv2): Conv2d(6, 12, kernel_size=(3, 3), stride=(1, 1), padding=(1, 1))\n",
            "  (conv3): Conv2d(12, 24, kernel_size=(3, 3), stride=(1, 1), padding=(1, 1))\n",
            "  (conv4): Conv2d(24, 48, kernel_size=(3, 3), stride=(1, 1), padding=(1, 1))\n",
            "  (conv5): Conv2d(48, 96, kernel_size=(3, 3), stride=(1, 1), padding=(1, 1))\n",
            "  (fc1): Linear(in_features=96, out_features=10, bias=True)\n",
            "  (pool): MaxPool2d(kernel_size=(2, 2), stride=(2, 2), padding=0, dilation=1, ceil_mode=False)\n",
            ")\n",
            "model:  NNetwork5(\n",
            "  (conv1): Conv2d(3, 6, kernel_size=(3, 3), stride=(1, 1), padding=(1, 1))\n",
            "  (conv2): Conv2d(6, 12, kernel_size=(3, 3), stride=(1, 1), padding=(1, 1))\n",
            "  (conv3): Conv2d(12, 24, kernel_size=(3, 3), stride=(1, 1), padding=(1, 1))\n",
            "  (conv4): Conv2d(24, 48, kernel_size=(3, 3), stride=(1, 1), padding=(1, 1))\n",
            "  (conv5): Conv2d(48, 96, kernel_size=(3, 3), stride=(1, 1), padding=(1, 1))\n",
            "  (fc1): Linear(in_features=96, out_features=10, bias=True)\n",
            "  (pool): MaxPool2d(kernel_size=(2, 2), stride=(2, 2), padding=0, dilation=1, ceil_mode=False)\n",
            ")\n",
            "model:  NNetwork5(\n",
            "  (conv1): Conv2d(3, 6, kernel_size=(3, 3), stride=(1, 1), padding=(1, 1))\n",
            "  (conv2): Conv2d(6, 12, kernel_size=(3, 3), stride=(1, 1), padding=(1, 1))\n",
            "  (conv3): Conv2d(12, 24, kernel_size=(3, 3), stride=(1, 1), padding=(1, 1))\n",
            "  (conv4): Conv2d(24, 48, kernel_size=(3, 3), stride=(1, 1), padding=(1, 1))\n",
            "  (conv5): Conv2d(48, 96, kernel_size=(3, 3), stride=(1, 1), padding=(1, 1))\n",
            "  (fc1): Linear(in_features=96, out_features=10, bias=True)\n",
            "  (pool): MaxPool2d(kernel_size=(2, 2), stride=(2, 2), padding=0, dilation=1, ceil_mode=False)\n",
            ")\n",
            "model:  NNetwork5(\n",
            "  (conv1): Conv2d(3, 6, kernel_size=(3, 3), stride=(1, 1), padding=(1, 1))\n",
            "  (conv2): Conv2d(6, 12, kernel_size=(3, 3), stride=(1, 1), padding=(1, 1))\n",
            "  (conv3): Conv2d(12, 24, kernel_size=(3, 3), stride=(1, 1), padding=(1, 1))\n",
            "  (conv4): Conv2d(24, 48, kernel_size=(3, 3), stride=(1, 1), padding=(1, 1))\n",
            "  (conv5): Conv2d(48, 96, kernel_size=(3, 3), stride=(1, 1), padding=(1, 1))\n",
            "  (fc1): Linear(in_features=96, out_features=10, bias=True)\n",
            "  (pool): MaxPool2d(kernel_size=(2, 2), stride=(2, 2), padding=0, dilation=1, ceil_mode=False)\n",
            ")\n"
          ]
        },
        {
          "output_type": "display_data",
          "data": {
            "text/plain": [
              "<Figure size 432x288 with 1 Axes>"
            ],
            "image/png": "[encoded data removed]"
          },
          "metadata": {
            "needs_background": "light"
          }
        }
      ]
    },
    {
      "cell_type": "code",
      "source": [
        "print(acc_list)"
      ],
      "metadata": {
        "colab": {
          "base_uri": "https://localhost:8080/"
        },
        "id": "YaxExtfGuaUB",
        "outputId": "9d9cd07f-9da4-4ebe-a9a8-996d8130ea6d"
      },
      "execution_count": null,
      "outputs": [
        {
          "output_type": "stream",
          "name": "stdout",
          "text": [
            "[61.12999725341797, 61.12999725341797, 61.12999725341797, 61.12999725341797, 61.12999725341797, 61.12999725341797, 61.12999725341797, 61.12999725341797, 61.12999725341797, 61.12999725341797, 61.12999725341797, 61.12999725341797, 61.12999725341797, 61.12999725341797, 61.12999725341797]\n"
          ]
        }
      ]
    },
    {
      "cell_type": "code",
      "source": [
        ""
      ],
      "metadata": {
        "id": "IKer0e0Eu0MM"
      },
      "execution_count": null,
      "outputs": []
    }
  ],
  "metadata": {
    "interpreter": {
      "hash": "b0fa6594d8f4cbf19f97940f81e996739fb7646882a419484c72d19e05852a7e"
    },
    "kernelspec": {
      "display_name": "Python 3.9.10 64-bit",
      "language": "python",
      "name": "python3"
    },
    "language_info": {
      "codemirror_mode": {
        "name": "ipython",
        "version": 3
      },
      "file_extension": ".py",
      "mimetype": "text/x-python",
      "name": "python",
      "nbconvert_exporter": "python",
      "pygments_lexer": "ipython3",
      "version": "3.9.10"
    },
    "orig_nbformat": 4,
    "colab": {
      "name": "nn.ipynb",
      "provenance": [],
      "collapsed_sections": [],
      "include_colab_link": true
    },
    "widgets": {
      "application/vnd.jupyter.widget-state+json": {
        "4fe4e9d7bcd64aa692d3ee5c3a7932d4": {
          "model_module": "@jupyter-widgets/controls",
          "model_name": "HBoxModel",
          "model_module_version": "1.5.0",
          "state": {
            "_dom_classes": [],
            "_model_module": "@jupyter-widgets/controls",
            "_model_module_version": "1.5.0",
            "_model_name": "HBoxModel",
            "_view_count": null,
            "_view_module": "@jupyter-widgets/controls",
            "_view_module_version": "1.5.0",
            "_view_name": "HBoxView",
            "box_style": "",
            "children": [
              "IPY_MODEL_85f86219529d488bb9f792533d571f8a",
              "IPY_MODEL_ecec4fddf04441d38f79d255bdd80396",
              "IPY_MODEL_249bf163bf574dd6a5ac66022e06ba74"
            ],
            "layout": "IPY_MODEL_35aa1f7be8ed494d8b253d76b28e0cb3"
          }
        },
        "85f86219529d488bb9f792533d571f8a": {
          "model_module": "@jupyter-widgets/controls",
          "model_name": "HTMLModel",
          "model_module_version": "1.5.0",
          "state": {
            "_dom_classes": [],
            "_model_module": "@jupyter-widgets/controls",
            "_model_module_version": "1.5.0",
            "_model_name": "HTMLModel",
            "_view_count": null,
            "_view_module": "@jupyter-widgets/controls",
            "_view_module_version": "1.5.0",
            "_view_name": "HTMLView",
            "description": "",
            "description_tooltip": null,
            "layout": "IPY_MODEL_c9658ded5b3e4a548108e187ec066b0d",
            "placeholder": "​",
            "style": "IPY_MODEL_c662ed4caa5f43ff87176b1b189a68d7",
            "value": ""
          }
        },
        "ecec4fddf04441d38f79d255bdd80396": {
          "model_module": "@jupyter-widgets/controls",
          "model_name": "FloatProgressModel",
          "model_module_version": "1.5.0",
          "state": {
            "_dom_classes": [],
            "_model_module": "@jupyter-widgets/controls",
            "_model_module_version": "1.5.0",
            "_model_name": "FloatProgressModel",
            "_view_count": null,
            "_view_module": "@jupyter-widgets/controls",
            "_view_module_version": "1.5.0",
            "_view_name": "ProgressView",
            "bar_style": "success",
            "description": "",
            "description_tooltip": null,
            "layout": "IPY_MODEL_1066fcd0d059431e902993b1008f1726",
            "max": 170498071,
            "min": 0,
            "orientation": "horizontal",
            "style": "IPY_MODEL_630d04322f334a82b4a1ff8980a62185",
            "value": 170498071
          }
        },
        "249bf163bf574dd6a5ac66022e06ba74": {
          "model_module": "@jupyter-widgets/controls",
          "model_name": "HTMLModel",
          "model_module_version": "1.5.0",
          "state": {
            "_dom_classes": [],
            "_model_module": "@jupyter-widgets/controls",
            "_model_module_version": "1.5.0",
            "_model_name": "HTMLModel",
            "_view_count": null,
            "_view_module": "@jupyter-widgets/controls",
            "_view_module_version": "1.5.0",
            "_view_name": "HTMLView",
            "description": "",
            "description_tooltip": null,
            "layout": "IPY_MODEL_f1f4e674d9be434cb5eb85300e90fff0",
            "placeholder": "​",
            "style": "IPY_MODEL_3101242763ad4f0eb420361605a4ec57",
            "value": " 170499072/? [00:04&lt;00:00, 46740072.69it/s]"
          }
        },
        "35aa1f7be8ed494d8b253d76b28e0cb3": {
          "model_module": "@jupyter-widgets/base",
          "model_name": "LayoutModel",
          "model_module_version": "1.2.0",
          "state": {
            "_model_module": "@jupyter-widgets/base",
            "_model_module_version": "1.2.0",
            "_model_name": "LayoutModel",
            "_view_count": null,
            "_view_module": "@jupyter-widgets/base",
            "_view_module_version": "1.2.0",
            "_view_name": "LayoutView",
            "align_content": null,
            "align_items": null,
            "align_self": null,
            "border": null,
            "bottom": null,
            "display": null,
            "flex": null,
            "flex_flow": null,
            "grid_area": null,
            "grid_auto_columns": null,
            "grid_auto_flow": null,
            "grid_auto_rows": null,
            "grid_column": null,
            "grid_gap": null,
            "grid_row": null,
            "grid_template_areas": null,
            "grid_template_columns": null,
            "grid_template_rows": null,
            "height": null,
            "justify_content": null,
            "justify_items": null,
            "left": null,
            "margin": null,
            "max_height": null,
            "max_width": null,
            "min_height": null,
            "min_width": null,
            "object_fit": null,
            "object_position": null,
            "order": null,
            "overflow": null,
            "overflow_x": null,
            "overflow_y": null,
            "padding": null,
            "right": null,
            "top": null,
            "visibility": null,
            "width": null
          }
        },
        "c9658ded5b3e4a548108e187ec066b0d": {
          "model_module": "@jupyter-widgets/base",
          "model_name": "LayoutModel",
          "model_module_version": "1.2.0",
          "state": {
            "_model_module": "@jupyter-widgets/base",
            "_model_module_version": "1.2.0",
            "_model_name": "LayoutModel",
            "_view_count": null,
            "_view_module": "@jupyter-widgets/base",
            "_view_module_version": "1.2.0",
            "_view_name": "LayoutView",
            "align_content": null,
            "align_items": null,
            "align_self": null,
            "border": null,
            "bottom": null,
            "display": null,
            "flex": null,
            "flex_flow": null,
            "grid_area": null,
            "grid_auto_columns": null,
            "grid_auto_flow": null,
            "grid_auto_rows": null,
            "grid_column": null,
            "grid_gap": null,
            "grid_row": null,
            "grid_template_areas": null,
            "grid_template_columns": null,
            "grid_template_rows": null,
            "height": null,
            "justify_content": null,
            "justify_items": null,
            "left": null,
            "margin": null,
            "max_height": null,
            "max_width": null,
            "min_height": null,
            "min_width": null,
            "object_fit": null,
            "object_position": null,
            "order": null,
            "overflow": null,
            "overflow_x": null,
            "overflow_y": null,
            "padding": null,
            "right": null,
            "top": null,
            "visibility": null,
            "width": null
          }
        },
        "c662ed4caa5f43ff87176b1b189a68d7": {
          "model_module": "@jupyter-widgets/controls",
          "model_name": "DescriptionStyleModel",
          "model_module_version": "1.5.0",
          "state": {
            "_model_module": "@jupyter-widgets/controls",
            "_model_module_version": "1.5.0",
            "_model_name": "DescriptionStyleModel",
            "_view_count": null,
            "_view_module": "@jupyter-widgets/base",
            "_view_module_version": "1.2.0",
            "_view_name": "StyleView",
            "description_width": ""
          }
        },
        "1066fcd0d059431e902993b1008f1726": {
          "model_module": "@jupyter-widgets/base",
          "model_name": "LayoutModel",
          "model_module_version": "1.2.0",
          "state": {
            "_model_module": "@jupyter-widgets/base",
            "_model_module_version": "1.2.0",
            "_model_name": "LayoutModel",
            "_view_count": null,
            "_view_module": "@jupyter-widgets/base",
            "_view_module_version": "1.2.0",
            "_view_name": "LayoutView",
            "align_content": null,
            "align_items": null,
            "align_self": null,
            "border": null,
            "bottom": null,
            "display": null,
            "flex": null,
            "flex_flow": null,
            "grid_area": null,
            "grid_auto_columns": null,
            "grid_auto_flow": null,
            "grid_auto_rows": null,
            "grid_column": null,
            "grid_gap": null,
            "grid_row": null,
            "grid_template_areas": null,
            "grid_template_columns": null,
            "grid_template_rows": null,
            "height": null,
            "justify_content": null,
            "justify_items": null,
            "left": null,
            "margin": null,
            "max_height": null,
            "max_width": null,
            "min_height": null,
            "min_width": null,
            "object_fit": null,
            "object_position": null,
            "order": null,
            "overflow": null,
            "overflow_x": null,
            "overflow_y": null,
            "padding": null,
            "right": null,
            "top": null,
            "visibility": null,
            "width": null
          }
        },
        "630d04322f334a82b4a1ff8980a62185": {
          "model_module": "@jupyter-widgets/controls",
          "model_name": "ProgressStyleModel",
          "model_module_version": "1.5.0",
          "state": {
            "_model_module": "@jupyter-widgets/controls",
            "_model_module_version": "1.5.0",
            "_model_name": "ProgressStyleModel",
            "_view_count": null,
            "_view_module": "@jupyter-widgets/base",
            "_view_module_version": "1.2.0",
            "_view_name": "StyleView",
            "bar_color": null,
            "description_width": ""
          }
        },
        "f1f4e674d9be434cb5eb85300e90fff0": {
          "model_module": "@jupyter-widgets/base",
          "model_name": "LayoutModel",
          "model_module_version": "1.2.0",
          "state": {
            "_model_module": "@jupyter-widgets/base",
            "_model_module_version": "1.2.0",
            "_model_name": "LayoutModel",
            "_view_count": null,
            "_view_module": "@jupyter-widgets/base",
            "_view_module_version": "1.2.0",
            "_view_name": "LayoutView",
            "align_content": null,
            "align_items": null,
            "align_self": null,
            "border": null,
            "bottom": null,
            "display": null,
            "flex": null,
            "flex_flow": null,
            "grid_area": null,
            "grid_auto_columns": null,
            "grid_auto_flow": null,
            "grid_auto_rows": null,
            "grid_column": null,
            "grid_gap": null,
            "grid_row": null,
            "grid_template_areas": null,
            "grid_template_columns": null,
            "grid_template_rows": null,
            "height": null,
            "justify_content": null,
            "justify_items": null,
            "left": null,
            "margin": null,
            "max_height": null,
            "max_width": null,
            "min_height": null,
            "min_width": null,
            "object_fit": null,
            "object_position": null,
            "order": null,
            "overflow": null,
            "overflow_x": null,
            "overflow_y": null,
            "padding": null,
            "right": null,
            "top": null,
            "visibility": null,
            "width": null
          }
        },
        "3101242763ad4f0eb420361605a4ec57": {
          "model_module": "@jupyter-widgets/controls",
          "model_name": "DescriptionStyleModel",
          "model_module_version": "1.5.0",
          "state": {
            "_model_module": "@jupyter-widgets/controls",
            "_model_module_version": "1.5.0",
            "_model_name": "DescriptionStyleModel",
            "_view_count": null,
            "_view_module": "@jupyter-widgets/base",
            "_view_module_version": "1.2.0",
            "_view_name": "StyleView",
            "description_width": ""
          }
        }
      }
    }
  },
  "nbformat": 4,
  "nbformat_minor": 0
}